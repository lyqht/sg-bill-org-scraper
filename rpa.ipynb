{
 "cells": [
  {
   "cell_type": "markdown",
   "id": "91e0c70d-c781-4ea1-b6b8-e2b3f60bebd4",
   "metadata": {
    "jp-MarkdownHeadingCollapsed": true,
    "tags": []
   },
   "source": [
    "## Demo RPA"
   ]
  },
  {
   "cell_type": "code",
   "execution_count": 2,
   "id": "d0990314-22c6-48da-9085-d994a8ffa221",
   "metadata": {},
   "outputs": [
    {
     "name": "stdout",
     "output_type": "stream",
     "text": [
      "[RPA][INFO] - setting up TagUI for use in your Python environment\n",
      "[RPA][INFO] - downloading TagUI (~200MB) and unzipping to below folder...\n",
      "[RPA][INFO] - /Users/lyqht\n",
      "[RPA][INFO] - done. syncing TagUI with stable cutting edge version\n",
      "[RPA][INFO] - downloading latest PhantomJS to fix OpenSSL issue\n",
      "[RPA][INFO] - TagUI now ready for use in your Python environment\n",
      "About 59,100,000 results (0.53 seconds)\n"
     ]
    },
    {
     "data": {
      "text/plain": [
       "True"
      ]
     },
     "execution_count": 2,
     "metadata": {},
     "output_type": "execute_result"
    }
   ],
   "source": [
    "import rpa as r\n",
    "\n",
    "r.init()\n",
    "r.url('https://www.google.com')\n",
    "r.type('//*[@name=\"q\"]', 'decentralisation[enter]')\n",
    "print(r.read('result-stats'))\n",
    "r.snap('page', 'results.png')\n",
    "r.close()"
   ]
  },
  {
   "cell_type": "markdown",
   "id": "b3c2a848-8723-4d28-b27d-618cd6d20028",
   "metadata": {
    "jp-MarkdownHeadingCollapsed": true,
    "tags": []
   },
   "source": [
    "## Scraping from AXS\n",
    "\n",
    "An example of getting bill payee from a specific category. As you can see, the selectors are ugly and the DOM structure looks weird af."
   ]
  },
  {
   "cell_type": "code",
   "execution_count": 5,
   "id": "34f3fa52-cb1b-4d69-b076-3fa0f15afa5e",
   "metadata": {},
   "outputs": [
    {
     "name": "stdout",
     "output_type": "stream",
     "text": [
      "Getting billing organisations of category: General\n",
      "Second payee in category Singtel\n"
     ]
    },
    {
     "data": {
      "text/plain": [
       "True"
      ]
     },
     "execution_count": 5,
     "metadata": {},
     "output_type": "execute_result"
    }
   ],
   "source": [
    "import rpa as r\n",
    "numCategories = 10\n",
    "\n",
    "billSideBarEl = '#divBillsPanel>table>tbody>tr>td>#left_nav:nth-child(1)'\n",
    "\n",
    "def getBillSidebarItem(index = 0):\n",
    "    return billSideBarEl + '>ul>li:nth-child(%s)' % (index+1)\n",
    "\n",
    "def getBillPayeeInRowIndex(index = 0):\n",
    "    rowElTemplate = 'table:nth-child(2) > tbody > tr > td:nth-child(3) > table:nth-child(%s)'\n",
    "    return rowElTemplate % ((index+1)*2) + '> tbody > tr > td:nth-child(2) > table > tbody > tr:nth-child(1)'\n",
    "\n",
    "r.init(visual_automation = True)\n",
    "r.url('https://e-station2.axs.com.sg/')\n",
    "r.click('Pay Bills')\n",
    "r.click(billSideBarEl)\n",
    "\n",
    "\n",
    "category = r.read(getBillSidebarItem(0))\n",
    "r.click(getBillSidebarItem(0))\n",
    "print(\"Getting billing organisations of category: %s\" % category)\n",
    "\n",
    "payee = r.read(getBillPayeeInRowIndex(1))\n",
    "print(\"Second payee in category: %s\" % payee)\n",
    "\n",
    "r.close()"
   ]
  },
  {
   "cell_type": "markdown",
   "id": "4cd67a4f-4c7b-48e9-8ea5-c747b6926f35",
   "metadata": {
    "tags": []
   },
   "source": [
    "## Scraping from POSB\n",
    "\n",
    "Working example of getting all bill payees from available categories listed on the website."
   ]
  },
  {
   "cell_type": "code",
   "execution_count": 11,
   "id": "29d773f3-222e-440b-8375-629560f2c167",
   "metadata": {},
   "outputs": [
    {
     "name": "stdout",
     "output_type": "stream",
     "text": [
      "Found 9 categories\n"
     ]
    }
   ],
   "source": [
    "import rpa as r\n",
    "import requests\n",
    "import pandas as pd\n",
    "import numpy as np\n",
    "\n",
    "url = 'https://www.posb.com.sg/personal/deposits/pay-with-ease/local-bill-payments/giro-payee-organisations.page'\n",
    "html = requests.get(url).content\n",
    "\n",
    "df_list = pd.read_html(html)\n",
    "num_categories = len(df_list)\n",
    "print(\"Found %s categories\" % len(df_list))"
   ]
  },
  {
   "cell_type": "code",
   "execution_count": 16,
   "id": "bad69d68-414c-495c-8cb3-256c0983a404",
   "metadata": {},
   "outputs": [
    {
     "data": {
      "text/plain": [
       "array(['Billing Organisation', 'Bill Reference Number', 'Field Length',\n",
       "       'Example'], dtype=object)"
      ]
     },
     "execution_count": 16,
     "metadata": {},
     "output_type": "execute_result"
    }
   ],
   "source": [
    "df_list[0]\n",
    "\n",
    "df_list[0].columns.values"
   ]
  },
  {
   "cell_type": "markdown",
   "id": "1042feaf-129b-4be5-83d1-98f3410c8ff0",
   "metadata": {},
   "source": [
    "### Getting Payees without category"
   ]
  },
  {
   "cell_type": "code",
   "execution_count": 19,
   "id": "4364f6d2-99bf-4f08-9e35-01750587c6e3",
   "metadata": {},
   "outputs": [
    {
     "data": {
      "text/html": [
       "<div>\n",
       "<style scoped>\n",
       "    .dataframe tbody tr th:only-of-type {\n",
       "        vertical-align: middle;\n",
       "    }\n",
       "\n",
       "    .dataframe tbody tr th {\n",
       "        vertical-align: top;\n",
       "    }\n",
       "\n",
       "    .dataframe thead th {\n",
       "        text-align: right;\n",
       "    }\n",
       "</style>\n",
       "<table border=\"1\" class=\"dataframe\">\n",
       "  <thead>\n",
       "    <tr style=\"text-align: right;\">\n",
       "      <th></th>\n",
       "      <th>0</th>\n",
       "      <th>1</th>\n",
       "      <th>2</th>\n",
       "      <th>3</th>\n",
       "    </tr>\n",
       "  </thead>\n",
       "  <tbody>\n",
       "    <tr>\n",
       "      <th>0</th>\n",
       "      <td>DBS Vickers Securities (Singapore) Pte Ltd</td>\n",
       "      <td>DBS Vickers Trading account number</td>\n",
       "      <td>7 Digits</td>\n",
       "      <td>80XX XXX Please indicate \"0\" for payment limit.</td>\n",
       "    </tr>\n",
       "    <tr>\n",
       "      <th>1</th>\n",
       "      <td>67 Pall Mall Singapore Pte. Ltd.</td>\n",
       "      <td>Membership No.</td>\n",
       "      <td>9 Characters (all numeric)</td>\n",
       "      <td>012345678</td>\n",
       "    </tr>\n",
       "    <tr>\n",
       "      <th>2</th>\n",
       "      <td>SENTOSA GOLF CLUB</td>\n",
       "      <td>Membership Number</td>\n",
       "      <td>7 Alphanumeric Characters (Maximum)</td>\n",
       "      <td>A12345 / A12345X / AB1234</td>\n",
       "    </tr>\n",
       "    <tr>\n",
       "      <th>3</th>\n",
       "      <td>Singapore Swimming Club</td>\n",
       "      <td>Account No. with billing corporation as shown ...</td>\n",
       "      <td>5 Characters (2 Alphabet 3 Digits)</td>\n",
       "      <td>TA123</td>\n",
       "    </tr>\n",
       "    <tr>\n",
       "      <th>4</th>\n",
       "      <td>Singapore Island Country Club</td>\n",
       "      <td>Club No. as provided by billing organisation</td>\n",
       "      <td>5 Characters (1 Alphabet 4 Digits)</td>\n",
       "      <td>A0123400 as A1234</td>\n",
       "    </tr>\n",
       "    <tr>\n",
       "      <th>...</th>\n",
       "      <td>...</td>\n",
       "      <td>...</td>\n",
       "      <td>...</td>\n",
       "      <td>...</td>\n",
       "    </tr>\n",
       "    <tr>\n",
       "      <th>99</th>\n",
       "      <td>StarHub Ltd</td>\n",
       "      <td>Account No. with StarHub Ltd as displayed on y...</td>\n",
       "      <td>Numeric with decimals, ending with a letter.</td>\n",
       "      <td>Eg: 1.12345678A</td>\n",
       "    </tr>\n",
       "    <tr>\n",
       "      <th>100</th>\n",
       "      <td>Sembcorp Power Pte Ltd</td>\n",
       "      <td>Account No. with Sembcorp Power Pte Ltd as dis...</td>\n",
       "      <td>10 Characters (1 Uppercase alphabet &amp; 9 digits)</td>\n",
       "      <td>H123456782 / B000000018</td>\n",
       "    </tr>\n",
       "    <tr>\n",
       "      <th>101</th>\n",
       "      <td>Sunseap Energy Pte Ltd</td>\n",
       "      <td>Sunseap Account number as shown on top right o...</td>\n",
       "      <td>Sunseap Account number as shown on top right o...</td>\n",
       "      <td>23012345</td>\n",
       "    </tr>\n",
       "    <tr>\n",
       "      <th>102</th>\n",
       "      <td>Union Power Pte Ltd</td>\n",
       "      <td>MSSL Number</td>\n",
       "      <td>10 Digits / 13 Digits</td>\n",
       "      <td>9308014458 9308014458-013</td>\n",
       "    </tr>\n",
       "    <tr>\n",
       "      <th>103</th>\n",
       "      <td>Marine Parade Town Council</td>\n",
       "      <td>Reference No. as show on statement</td>\n",
       "      <td>12 Characters (1 Alphabet 11 Digits)</td>\n",
       "      <td>C12345678900</td>\n",
       "    </tr>\n",
       "  </tbody>\n",
       "</table>\n",
       "<p>104 rows × 4 columns</p>\n",
       "</div>"
      ],
      "text/plain": [
       "                                              0  \\\n",
       "0    DBS Vickers Securities (Singapore) Pte Ltd   \n",
       "1              67 Pall Mall Singapore Pte. Ltd.   \n",
       "2                             SENTOSA GOLF CLUB   \n",
       "3                       Singapore Swimming Club   \n",
       "4                 Singapore Island Country Club   \n",
       "..                                          ...   \n",
       "99                                  StarHub Ltd   \n",
       "100                      Sembcorp Power Pte Ltd   \n",
       "101                      Sunseap Energy Pte Ltd   \n",
       "102                         Union Power Pte Ltd   \n",
       "103                  Marine Parade Town Council   \n",
       "\n",
       "                                                     1  \\\n",
       "0                   DBS Vickers Trading account number   \n",
       "1                                       Membership No.   \n",
       "2                                    Membership Number   \n",
       "3    Account No. with billing corporation as shown ...   \n",
       "4         Club No. as provided by billing organisation   \n",
       "..                                                 ...   \n",
       "99   Account No. with StarHub Ltd as displayed on y...   \n",
       "100  Account No. with Sembcorp Power Pte Ltd as dis...   \n",
       "101  Sunseap Account number as shown on top right o...   \n",
       "102                                        MSSL Number   \n",
       "103                 Reference No. as show on statement   \n",
       "\n",
       "                                                     2  \\\n",
       "0                                             7 Digits   \n",
       "1                           9 Characters (all numeric)   \n",
       "2                  7 Alphanumeric Characters (Maximum)   \n",
       "3                   5 Characters (2 Alphabet 3 Digits)   \n",
       "4                   5 Characters (1 Alphabet 4 Digits)   \n",
       "..                                                 ...   \n",
       "99        Numeric with decimals, ending with a letter.   \n",
       "100    10 Characters (1 Uppercase alphabet & 9 digits)   \n",
       "101  Sunseap Account number as shown on top right o...   \n",
       "102                              10 Digits / 13 Digits   \n",
       "103               12 Characters (1 Alphabet 11 Digits)   \n",
       "\n",
       "                                                   3  \n",
       "0    80XX XXX Please indicate \"0\" for payment limit.  \n",
       "1                                          012345678  \n",
       "2                          A12345 / A12345X / AB1234  \n",
       "3                                              TA123  \n",
       "4                                  A0123400 as A1234  \n",
       "..                                               ...  \n",
       "99                                   Eg: 1.12345678A  \n",
       "100                          H123456782 / B000000018  \n",
       "101                                         23012345  \n",
       "102                        9308014458 9308014458-013  \n",
       "103                                     C12345678900  \n",
       "\n",
       "[104 rows x 4 columns]"
      ]
     },
     "execution_count": 19,
     "metadata": {},
     "output_type": "execute_result"
    }
   ],
   "source": [
    "combined_array = np.concatenate(df_list)\n",
    "df = pd.DataFrame(combined_array)\n",
    "df.to_csv('payees_without_category.csv', \n",
    "          header=list(df_list[0].columns.values),\n",
    "          index=False)\n",
    "\n",
    "df"
   ]
  },
  {
   "cell_type": "markdown",
   "id": "88e89826-624e-4d2d-8006-35889f28cb35",
   "metadata": {},
   "source": [
    "### Getting categories with RPA"
   ]
  },
  {
   "cell_type": "code",
   "execution_count": 3,
   "id": "fbb97e67-6f81-494a-86c5-e8787fb45f4b",
   "metadata": {},
   "outputs": [
    {
     "name": "stdout",
     "output_type": "stream",
     "text": [
      "['Brokerage / Securities Firms', 'Country Clubs / Recreational Clubs', 'Credit Cards / DBS Cashline', 'Educational Institution', 'Government Agencies', 'Insurance Companies', 'Other Agencies', 'Telecommunications and Utilities', 'Town Councils']\n"
     ]
    },
    {
     "data": {
      "text/plain": [
       "True"
      ]
     },
     "execution_count": 3,
     "metadata": {},
     "output_type": "execute_result"
    }
   ],
   "source": [
    "r.init()\n",
    "r.url(url)\n",
    "categories = [r.read(\".rich-text-box>div:nth-child(%s)>h2\" % (3+x*2)) for x in range(num_categories)]\n",
    "\n",
    "print(categories)\n",
    "\n",
    "r.close()"
   ]
  },
  {
   "cell_type": "markdown",
   "id": "2ddb6893-057e-4563-9d78-3df5c968549f",
   "metadata": {},
   "source": [
    "### Example of Adding Category to just 1 table"
   ]
  },
  {
   "cell_type": "code",
   "execution_count": 4,
   "id": "e00d20cb-434d-4f92-969f-a629518c65eb",
   "metadata": {},
   "outputs": [
    {
     "data": {
      "text/html": [
       "<div>\n",
       "<style scoped>\n",
       "    .dataframe tbody tr th:only-of-type {\n",
       "        vertical-align: middle;\n",
       "    }\n",
       "\n",
       "    .dataframe tbody tr th {\n",
       "        vertical-align: top;\n",
       "    }\n",
       "\n",
       "    .dataframe thead th {\n",
       "        text-align: right;\n",
       "    }\n",
       "</style>\n",
       "<table border=\"1\" class=\"dataframe\">\n",
       "  <thead>\n",
       "    <tr style=\"text-align: right;\">\n",
       "      <th></th>\n",
       "      <th>Billing Organisation</th>\n",
       "      <th>Bill Reference Number</th>\n",
       "      <th>Field Length</th>\n",
       "      <th>Example</th>\n",
       "      <th>Category</th>\n",
       "    </tr>\n",
       "  </thead>\n",
       "  <tbody>\n",
       "    <tr>\n",
       "      <th>0</th>\n",
       "      <td>American Express Card</td>\n",
       "      <td>For credit cards (3762 1 xxx...), input first ...</td>\n",
       "      <td>11 Digits</td>\n",
       "      <td>3762 123456 78901 input the bill reference no....</td>\n",
       "      <td>Credit Cards / DBS Cashline</td>\n",
       "    </tr>\n",
       "    <tr>\n",
       "      <th>1</th>\n",
       "      <td>American Express Card</td>\n",
       "      <td>For charge cards (3762 0 xxx...), input first ...</td>\n",
       "      <td>11 Digits</td>\n",
       "      <td>3762 123456 78901 input the bill reference no....</td>\n",
       "      <td>Credit Cards / DBS Cashline</td>\n",
       "    </tr>\n",
       "    <tr>\n",
       "      <th>2</th>\n",
       "      <td>American Express Card</td>\n",
       "      <td>For corporate cards (3762 2 xxx...), input fir...</td>\n",
       "      <td>11 Digits</td>\n",
       "      <td>3762 123456 78901 input the bill reference no....</td>\n",
       "      <td>Credit Cards / DBS Cashline</td>\n",
       "    </tr>\n",
       "    <tr>\n",
       "      <th>3</th>\n",
       "      <td>DBS Cashline (information)</td>\n",
       "      <td>10-Digit DBS Cashline account no.</td>\n",
       "      <td>10 Digits</td>\n",
       "      <td>0821234567</td>\n",
       "      <td>Credit Cards / DBS Cashline</td>\n",
       "    </tr>\n",
       "  </tbody>\n",
       "</table>\n",
       "</div>"
      ],
      "text/plain": [
       "         Billing Organisation  \\\n",
       "0       American Express Card   \n",
       "1       American Express Card   \n",
       "2       American Express Card   \n",
       "3  DBS Cashline (information)   \n",
       "\n",
       "                               Bill Reference Number Field Length  \\\n",
       "0  For credit cards (3762 1 xxx...), input first ...    11 Digits   \n",
       "1  For charge cards (3762 0 xxx...), input first ...    11 Digits   \n",
       "2  For corporate cards (3762 2 xxx...), input fir...    11 Digits   \n",
       "3                  10-Digit DBS Cashline account no.    10 Digits   \n",
       "\n",
       "                                             Example  \\\n",
       "0  3762 123456 78901 input the bill reference no....   \n",
       "1  3762 123456 78901 input the bill reference no....   \n",
       "2  3762 123456 78901 input the bill reference no....   \n",
       "3                                         0821234567   \n",
       "\n",
       "                      Category  \n",
       "0  Credit Cards / DBS Cashline  \n",
       "1  Credit Cards / DBS Cashline  \n",
       "2  Credit Cards / DBS Cashline  \n",
       "3  Credit Cards / DBS Cashline  "
      ]
     },
     "execution_count": 4,
     "metadata": {},
     "output_type": "execute_result"
    }
   ],
   "source": [
    "df = df_list[2]\n",
    "df['Category'] = categories[2]\n",
    "df"
   ]
  },
  {
   "cell_type": "markdown",
   "id": "a3066366-023d-4118-9491-205a234323c9",
   "metadata": {},
   "source": [
    "### Add Category to all payees"
   ]
  },
  {
   "cell_type": "code",
   "execution_count": 20,
   "id": "b7d0a982-6df1-440d-a41d-4599d7f0bf52",
   "metadata": {},
   "outputs": [
    {
     "data": {
      "text/html": [
       "<div>\n",
       "<style scoped>\n",
       "    .dataframe tbody tr th:only-of-type {\n",
       "        vertical-align: middle;\n",
       "    }\n",
       "\n",
       "    .dataframe tbody tr th {\n",
       "        vertical-align: top;\n",
       "    }\n",
       "\n",
       "    .dataframe thead th {\n",
       "        text-align: right;\n",
       "    }\n",
       "</style>\n",
       "<table border=\"1\" class=\"dataframe\">\n",
       "  <thead>\n",
       "    <tr style=\"text-align: right;\">\n",
       "      <th></th>\n",
       "      <th>0</th>\n",
       "      <th>1</th>\n",
       "      <th>2</th>\n",
       "      <th>3</th>\n",
       "      <th>4</th>\n",
       "    </tr>\n",
       "  </thead>\n",
       "  <tbody>\n",
       "    <tr>\n",
       "      <th>0</th>\n",
       "      <td>DBS Vickers Securities (Singapore) Pte Ltd</td>\n",
       "      <td>DBS Vickers Trading account number</td>\n",
       "      <td>7 Digits</td>\n",
       "      <td>80XX XXX Please indicate \"0\" for payment limit.</td>\n",
       "      <td>Brokerage / Securities Firms</td>\n",
       "    </tr>\n",
       "    <tr>\n",
       "      <th>1</th>\n",
       "      <td>67 Pall Mall Singapore Pte. Ltd.</td>\n",
       "      <td>Membership No.</td>\n",
       "      <td>9 Characters (all numeric)</td>\n",
       "      <td>012345678</td>\n",
       "      <td>Country Clubs / Recreational Clubs</td>\n",
       "    </tr>\n",
       "    <tr>\n",
       "      <th>2</th>\n",
       "      <td>SENTOSA GOLF CLUB</td>\n",
       "      <td>Membership Number</td>\n",
       "      <td>7 Alphanumeric Characters (Maximum)</td>\n",
       "      <td>A12345 / A12345X / AB1234</td>\n",
       "      <td>Country Clubs / Recreational Clubs</td>\n",
       "    </tr>\n",
       "    <tr>\n",
       "      <th>3</th>\n",
       "      <td>Singapore Swimming Club</td>\n",
       "      <td>Account No. with billing corporation as shown ...</td>\n",
       "      <td>5 Characters (2 Alphabet 3 Digits)</td>\n",
       "      <td>TA123</td>\n",
       "      <td>Country Clubs / Recreational Clubs</td>\n",
       "    </tr>\n",
       "    <tr>\n",
       "      <th>4</th>\n",
       "      <td>Singapore Island Country Club</td>\n",
       "      <td>Club No. as provided by billing organisation</td>\n",
       "      <td>5 Characters (1 Alphabet 4 Digits)</td>\n",
       "      <td>A0123400 as A1234</td>\n",
       "      <td>Country Clubs / Recreational Clubs</td>\n",
       "    </tr>\n",
       "    <tr>\n",
       "      <th>...</th>\n",
       "      <td>...</td>\n",
       "      <td>...</td>\n",
       "      <td>...</td>\n",
       "      <td>...</td>\n",
       "      <td>...</td>\n",
       "    </tr>\n",
       "    <tr>\n",
       "      <th>99</th>\n",
       "      <td>StarHub Ltd</td>\n",
       "      <td>Account No. with StarHub Ltd as displayed on y...</td>\n",
       "      <td>Numeric with decimals, ending with a letter.</td>\n",
       "      <td>Eg: 1.12345678A</td>\n",
       "      <td>Telecommunications and Utilities</td>\n",
       "    </tr>\n",
       "    <tr>\n",
       "      <th>100</th>\n",
       "      <td>Sembcorp Power Pte Ltd</td>\n",
       "      <td>Account No. with Sembcorp Power Pte Ltd as dis...</td>\n",
       "      <td>10 Characters (1 Uppercase alphabet &amp; 9 digits)</td>\n",
       "      <td>H123456782 / B000000018</td>\n",
       "      <td>Telecommunications and Utilities</td>\n",
       "    </tr>\n",
       "    <tr>\n",
       "      <th>101</th>\n",
       "      <td>Sunseap Energy Pte Ltd</td>\n",
       "      <td>Sunseap Account number as shown on top right o...</td>\n",
       "      <td>Sunseap Account number as shown on top right o...</td>\n",
       "      <td>23012345</td>\n",
       "      <td>Telecommunications and Utilities</td>\n",
       "    </tr>\n",
       "    <tr>\n",
       "      <th>102</th>\n",
       "      <td>Union Power Pte Ltd</td>\n",
       "      <td>MSSL Number</td>\n",
       "      <td>10 Digits / 13 Digits</td>\n",
       "      <td>9308014458 9308014458-013</td>\n",
       "      <td>Telecommunications and Utilities</td>\n",
       "    </tr>\n",
       "    <tr>\n",
       "      <th>103</th>\n",
       "      <td>Marine Parade Town Council</td>\n",
       "      <td>Reference No. as show on statement</td>\n",
       "      <td>12 Characters (1 Alphabet 11 Digits)</td>\n",
       "      <td>C12345678900</td>\n",
       "      <td>Town Councils</td>\n",
       "    </tr>\n",
       "  </tbody>\n",
       "</table>\n",
       "<p>104 rows × 5 columns</p>\n",
       "</div>"
      ],
      "text/plain": [
       "                                              0  \\\n",
       "0    DBS Vickers Securities (Singapore) Pte Ltd   \n",
       "1              67 Pall Mall Singapore Pte. Ltd.   \n",
       "2                             SENTOSA GOLF CLUB   \n",
       "3                       Singapore Swimming Club   \n",
       "4                 Singapore Island Country Club   \n",
       "..                                          ...   \n",
       "99                                  StarHub Ltd   \n",
       "100                      Sembcorp Power Pte Ltd   \n",
       "101                      Sunseap Energy Pte Ltd   \n",
       "102                         Union Power Pte Ltd   \n",
       "103                  Marine Parade Town Council   \n",
       "\n",
       "                                                     1  \\\n",
       "0                   DBS Vickers Trading account number   \n",
       "1                                       Membership No.   \n",
       "2                                    Membership Number   \n",
       "3    Account No. with billing corporation as shown ...   \n",
       "4         Club No. as provided by billing organisation   \n",
       "..                                                 ...   \n",
       "99   Account No. with StarHub Ltd as displayed on y...   \n",
       "100  Account No. with Sembcorp Power Pte Ltd as dis...   \n",
       "101  Sunseap Account number as shown on top right o...   \n",
       "102                                        MSSL Number   \n",
       "103                 Reference No. as show on statement   \n",
       "\n",
       "                                                     2  \\\n",
       "0                                             7 Digits   \n",
       "1                           9 Characters (all numeric)   \n",
       "2                  7 Alphanumeric Characters (Maximum)   \n",
       "3                   5 Characters (2 Alphabet 3 Digits)   \n",
       "4                   5 Characters (1 Alphabet 4 Digits)   \n",
       "..                                                 ...   \n",
       "99        Numeric with decimals, ending with a letter.   \n",
       "100    10 Characters (1 Uppercase alphabet & 9 digits)   \n",
       "101  Sunseap Account number as shown on top right o...   \n",
       "102                              10 Digits / 13 Digits   \n",
       "103               12 Characters (1 Alphabet 11 Digits)   \n",
       "\n",
       "                                                   3  \\\n",
       "0    80XX XXX Please indicate \"0\" for payment limit.   \n",
       "1                                          012345678   \n",
       "2                          A12345 / A12345X / AB1234   \n",
       "3                                              TA123   \n",
       "4                                  A0123400 as A1234   \n",
       "..                                               ...   \n",
       "99                                   Eg: 1.12345678A   \n",
       "100                          H123456782 / B000000018   \n",
       "101                                         23012345   \n",
       "102                        9308014458 9308014458-013   \n",
       "103                                     C12345678900   \n",
       "\n",
       "                                      4  \n",
       "0          Brokerage / Securities Firms  \n",
       "1    Country Clubs / Recreational Clubs  \n",
       "2    Country Clubs / Recreational Clubs  \n",
       "3    Country Clubs / Recreational Clubs  \n",
       "4    Country Clubs / Recreational Clubs  \n",
       "..                                  ...  \n",
       "99     Telecommunications and Utilities  \n",
       "100    Telecommunications and Utilities  \n",
       "101    Telecommunications and Utilities  \n",
       "102    Telecommunications and Utilities  \n",
       "103                       Town Councils  \n",
       "\n",
       "[104 rows x 5 columns]"
      ]
     },
     "execution_count": 20,
     "metadata": {},
     "output_type": "execute_result"
    }
   ],
   "source": [
    "for x in range(num_categories):\n",
    "    df_list[x]['Category'] = categories[x]\n",
    "\n",
    "combined_array = np.concatenate(df_list)\n",
    "\n",
    "df = pd.DataFrame(combined_array)\n",
    "df.to_csv('payees_with_category.csv',\n",
    "          header=list(df_list[0].columns.values),\n",
    "          index=False)\n",
    "\n",
    "df.to_excel('payees_with_category.xlsx',\n",
    "            header=list(df_list[0].columns.values),\n",
    "            index=False)\n",
    "\n",
    "df"
   ]
  },
  {
   "cell_type": "code",
   "execution_count": null,
   "id": "cfab6af3-8bc2-47bd-87c7-f0928812f7e4",
   "metadata": {},
   "outputs": [],
   "source": []
  }
 ],
 "metadata": {
  "kernelspec": {
   "display_name": "Python 3 (ipykernel)",
   "language": "python",
   "name": "python3"
  },
  "language_info": {
   "codemirror_mode": {
    "name": "ipython",
    "version": 3
   },
   "file_extension": ".py",
   "mimetype": "text/x-python",
   "name": "python",
   "nbconvert_exporter": "python",
   "pygments_lexer": "ipython3",
   "version": "3.9.12"
  }
 },
 "nbformat": 4,
 "nbformat_minor": 5
}
